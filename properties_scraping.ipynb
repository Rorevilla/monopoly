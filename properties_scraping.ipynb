{
 "metadata": {
  "language_info": {
   "codemirror_mode": {
    "name": "ipython",
    "version": 3
   },
   "file_extension": ".py",
   "mimetype": "text/x-python",
   "name": "python",
   "nbconvert_exporter": "python",
   "pygments_lexer": "ipython3",
   "version": 3
  },
  "orig_nbformat": 2,
  "kernelspec": {
   "name": "python_defaultSpec_1596163919458",
   "display_name": "Python 3.8.2 64-bit"
  }
 },
 "nbformat": 4,
 "nbformat_minor": 2,
 "cells": [
  {
   "cell_type": "code",
   "execution_count": 74,
   "metadata": {},
   "outputs": [],
   "source": [
    "import urllib.request\n",
    "from bs4 import BeautifulSoup\n",
    "import csv"
   ]
  },
  {
   "cell_type": "code",
   "execution_count": 19,
   "metadata": {
    "tags": []
   },
   "outputs": [],
   "source": [
    "main_page = urllib.request.urlopen(\"https://monopoly.fandom.com/wiki/Property\")\n",
    "main_page = BeautifulSoup(main_page, 'html.parser')\n",
    "property_lists = soup.find_all(\"ul\")[10]\n",
    "\n",
    "property_links = []\n",
    "for link in property_lists.find_all('a', href=True):\n",
    "    property_links.append(\"https://monopoly.fandom.com\"+link[\"href\"])"
   ]
  },
  {
   "cell_type": "code",
   "execution_count": 70,
   "metadata": {
    "tags": []
   },
   "outputs": [],
   "source": [
    "property_attributes = []\n",
    "for property_link in property_links:\n",
    "    property_page = urllib.request.urlopen(property_link)\n",
    "    property_page = BeautifulSoup(property_page,\"html.parser\")\n",
    "    property_name = property_page.findAll(\"h1\", {\"class\": \"page-header__title\"})[0].text.strip()\n",
    "\n",
    "    rent = property_page.find_all(\"ul\")[10]\n",
    "    for i in rent.find_all(\"li\"):\n",
    "        if \"with\" not in i.text.strip():\n",
    "            property_attributes.append(property_name+\":\"+i.text.strip())\n",
    "\n",
    "    prices = property_page.find_all(\"ul\")[12]\n",
    "    for i in prices.find_all(\"li\"):\n",
    "        property_attributes.append(property_name+\":\"+i.text.strip())"
   ]
  },
  {
   "cell_type": "code",
   "execution_count": 76,
   "metadata": {},
   "outputs": [],
   "source": [
    "#Save to csv file\n",
    "with open(r'C:\\Users\\rodrigo.revilla\\Documents\\property_attributes.csv', 'w',newline='') as f:\n",
    "    writer = csv.writer(f)\n",
    "    writer.writerows(zip(property_attributes))"
   ]
  },
  {
   "cell_type": "code",
   "execution_count": null,
   "metadata": {},
   "outputs": [],
   "source": []
  }
 ]
}